{
 "cells": [
  {
   "cell_type": "code",
   "execution_count": 39,
   "metadata": {},
   "outputs": [],
   "source": [
    "from sklearn.model_selection import train_test_split\n",
    "import pandas as pd\n",
    "import numpy as np\n",
    "import re\n",
    "from sklearn.naive_bayes import MultinomialNB\n",
    "from sklearn.linear_model import LogisticRegression\n",
    "import seaborn as sns\n",
    "import matplotlib.pyplot as plt\n",
    "from sklearn.metrics import accuracy_score, classification_report\n",
    "from sklearn.feature_extraction.text import TfidfVectorizer\n",
    "import string"
   ]
  },
  {
   "cell_type": "code",
   "execution_count": 40,
   "metadata": {},
   "outputs": [],
   "source": [
    "df = pd.read_csv(r'CEAS_08.csv')"
   ]
  },
  {
   "cell_type": "code",
   "execution_count": 41,
   "metadata": {},
   "outputs": [
    {
     "data": {
      "text/plain": [
       "<bound method NDFrame.describe of                                                   sender  \\\n",
       "0                       Young Esposito <Young@iworld.de>   \n",
       "1                           Mok <ipline's1983@icable.ph>   \n",
       "2      Daily Top 10 <Karmandeep-opengevl@universalnet...   \n",
       "3                     Michael Parker <ivqrnai@pobox.com>   \n",
       "4      Gretchen Suggs <externalsep1@loanofficertool.com>   \n",
       "...                                                  ...   \n",
       "39149    CNN Alerts <charlene-detecton@btcmarketing.com>   \n",
       "39150           CNN Alerts <idgetily1971@careplusnj.org>   \n",
       "39151                   Abhijit Vyas <xpojhbz@gmail.com>   \n",
       "39152              Joseph Brennan <vupzesm@columbia.edu>   \n",
       "39153                Christian Heimes <wluhe@cheimes.de>   \n",
       "\n",
       "                                             receiver  \\\n",
       "0                         user4@gvc.ceas-challenge.cc   \n",
       "1                       user2.2@gvc.ceas-challenge.cc   \n",
       "2                       user2.9@gvc.ceas-challenge.cc   \n",
       "3      SpamAssassin Dev <xrh@spamassassin.apache.org>   \n",
       "4                       user2.2@gvc.ceas-challenge.cc   \n",
       "...                                               ...   \n",
       "39149                 email1007@gvc.ceas-challenge.cc   \n",
       "39150                  email104@gvc.ceas-challenge.cc   \n",
       "39151                        fxgmqwjn@triptracker.net   \n",
       "39152                   zqoqi@spamassassin.apache.org   \n",
       "39153              Python Dev <zvllln-eum@python.org>   \n",
       "\n",
       "                                  date  \\\n",
       "0      Tue, 05 Aug 2008 16:31:02 -0700   \n",
       "1      Tue, 05 Aug 2008 18:31:03 -0500   \n",
       "2      Tue, 05 Aug 2008 20:28:00 -1200   \n",
       "3      Tue, 05 Aug 2008 17:31:20 -0600   \n",
       "4      Tue, 05 Aug 2008 19:31:21 -0400   \n",
       "...                                ...   \n",
       "39149  Fri, 08 Aug 2008 10:34:50 -0400   \n",
       "39150  Fri, 08 Aug 2008 10:35:11 -0400   \n",
       "39151  Fri, 08 Aug 2008 22:00:43 +0800   \n",
       "39152  Fri, 08 Aug 2008 09:00:46 -0500   \n",
       "39153  Fri, 08 Aug 2008 16:00:18 +0200   \n",
       "\n",
       "                                                 subject  \\\n",
       "0                              Never agree to be a loser   \n",
       "1                                 Befriend Jenna Jameson   \n",
       "2                                   CNN.com Daily Top 10   \n",
       "3      Re: svn commit: r619753 - in /spamassassin/tru...   \n",
       "4                             SpecialPricesPharmMoreinfo   \n",
       "...                                                  ...   \n",
       "39149                        CNN Alerts: My Custom Alert   \n",
       "39150                        CNN Alerts: My Custom Alert   \n",
       "39151                                   Slideshow viewer   \n",
       "39152                              Note on 2-digit years   \n",
       "39153                      [Python-Dev] PEP 370 heads up   \n",
       "\n",
       "                                                    body  label  urls  \n",
       "0      Buck up, your troubles caused by small dimensi...      1     1  \n",
       "1      \\nUpgrade your sex and pleasures with these te...      1     1  \n",
       "2      >+=+=+=+=+=+=+=+=+=+=+=+=+=+=+=+=+=+=+=+=+=+=+...      1     1  \n",
       "3      Would anyone object to removing .so from this ...      0     1  \n",
       "4      \\nWelcomeFastShippingCustomerSupport\\nhttp://7...      1     1  \n",
       "...                                                  ...    ...   ...  \n",
       "39149  \\n\\nCNN Alerts: My Custom Alert\\n\\n\\n\\n\\n\\n\\n ...      1     0  \n",
       "39150  \\n\\nCNN Alerts: My Custom Alert\\n\\n\\n\\n\\n\\n\\n ...      1     0  \n",
       "39151  Hello there ! \\nGreat work on the slide show v...      0     0  \n",
       "39152  \\nMail from sender , coming from intuit.com\\ns...      0     0  \n",
       "39153  Dear fellow Pythonistas!\\n\\nGuido has accepted...      0     1  \n",
       "\n",
       "[39154 rows x 7 columns]>"
      ]
     },
     "execution_count": 41,
     "metadata": {},
     "output_type": "execute_result"
    }
   ],
   "source": [
    "df.describe"
   ]
  },
  {
   "cell_type": "code",
   "execution_count": 42,
   "metadata": {},
   "outputs": [
    {
     "data": {
      "text/html": [
       "<div>\n",
       "<style scoped>\n",
       "    .dataframe tbody tr th:only-of-type {\n",
       "        vertical-align: middle;\n",
       "    }\n",
       "\n",
       "    .dataframe tbody tr th {\n",
       "        vertical-align: top;\n",
       "    }\n",
       "\n",
       "    .dataframe thead th {\n",
       "        text-align: right;\n",
       "    }\n",
       "</style>\n",
       "<table border=\"1\" class=\"dataframe\">\n",
       "  <thead>\n",
       "    <tr style=\"text-align: right;\">\n",
       "      <th></th>\n",
       "      <th>sender</th>\n",
       "      <th>receiver</th>\n",
       "      <th>date</th>\n",
       "      <th>subject</th>\n",
       "      <th>body</th>\n",
       "      <th>label</th>\n",
       "      <th>urls</th>\n",
       "    </tr>\n",
       "  </thead>\n",
       "  <tbody>\n",
       "    <tr>\n",
       "      <th>0</th>\n",
       "      <td>Young Esposito &lt;Young@iworld.de&gt;</td>\n",
       "      <td>user4@gvc.ceas-challenge.cc</td>\n",
       "      <td>Tue, 05 Aug 2008 16:31:02 -0700</td>\n",
       "      <td>Never agree to be a loser</td>\n",
       "      <td>Buck up, your troubles caused by small dimensi...</td>\n",
       "      <td>1</td>\n",
       "      <td>1</td>\n",
       "    </tr>\n",
       "    <tr>\n",
       "      <th>1</th>\n",
       "      <td>Mok &lt;ipline's1983@icable.ph&gt;</td>\n",
       "      <td>user2.2@gvc.ceas-challenge.cc</td>\n",
       "      <td>Tue, 05 Aug 2008 18:31:03 -0500</td>\n",
       "      <td>Befriend Jenna Jameson</td>\n",
       "      <td>\\nUpgrade your sex and pleasures with these te...</td>\n",
       "      <td>1</td>\n",
       "      <td>1</td>\n",
       "    </tr>\n",
       "    <tr>\n",
       "      <th>2</th>\n",
       "      <td>Daily Top 10 &lt;Karmandeep-opengevl@universalnet...</td>\n",
       "      <td>user2.9@gvc.ceas-challenge.cc</td>\n",
       "      <td>Tue, 05 Aug 2008 20:28:00 -1200</td>\n",
       "      <td>CNN.com Daily Top 10</td>\n",
       "      <td>&gt;+=+=+=+=+=+=+=+=+=+=+=+=+=+=+=+=+=+=+=+=+=+=+...</td>\n",
       "      <td>1</td>\n",
       "      <td>1</td>\n",
       "    </tr>\n",
       "    <tr>\n",
       "      <th>3</th>\n",
       "      <td>Michael Parker &lt;ivqrnai@pobox.com&gt;</td>\n",
       "      <td>SpamAssassin Dev &lt;xrh@spamassassin.apache.org&gt;</td>\n",
       "      <td>Tue, 05 Aug 2008 17:31:20 -0600</td>\n",
       "      <td>Re: svn commit: r619753 - in /spamassassin/tru...</td>\n",
       "      <td>Would anyone object to removing .so from this ...</td>\n",
       "      <td>0</td>\n",
       "      <td>1</td>\n",
       "    </tr>\n",
       "    <tr>\n",
       "      <th>4</th>\n",
       "      <td>Gretchen Suggs &lt;externalsep1@loanofficertool.com&gt;</td>\n",
       "      <td>user2.2@gvc.ceas-challenge.cc</td>\n",
       "      <td>Tue, 05 Aug 2008 19:31:21 -0400</td>\n",
       "      <td>SpecialPricesPharmMoreinfo</td>\n",
       "      <td>\\nWelcomeFastShippingCustomerSupport\\nhttp://7...</td>\n",
       "      <td>1</td>\n",
       "      <td>1</td>\n",
       "    </tr>\n",
       "  </tbody>\n",
       "</table>\n",
       "</div>"
      ],
      "text/plain": [
       "                                              sender  \\\n",
       "0                   Young Esposito <Young@iworld.de>   \n",
       "1                       Mok <ipline's1983@icable.ph>   \n",
       "2  Daily Top 10 <Karmandeep-opengevl@universalnet...   \n",
       "3                 Michael Parker <ivqrnai@pobox.com>   \n",
       "4  Gretchen Suggs <externalsep1@loanofficertool.com>   \n",
       "\n",
       "                                         receiver  \\\n",
       "0                     user4@gvc.ceas-challenge.cc   \n",
       "1                   user2.2@gvc.ceas-challenge.cc   \n",
       "2                   user2.9@gvc.ceas-challenge.cc   \n",
       "3  SpamAssassin Dev <xrh@spamassassin.apache.org>   \n",
       "4                   user2.2@gvc.ceas-challenge.cc   \n",
       "\n",
       "                              date  \\\n",
       "0  Tue, 05 Aug 2008 16:31:02 -0700   \n",
       "1  Tue, 05 Aug 2008 18:31:03 -0500   \n",
       "2  Tue, 05 Aug 2008 20:28:00 -1200   \n",
       "3  Tue, 05 Aug 2008 17:31:20 -0600   \n",
       "4  Tue, 05 Aug 2008 19:31:21 -0400   \n",
       "\n",
       "                                             subject  \\\n",
       "0                          Never agree to be a loser   \n",
       "1                             Befriend Jenna Jameson   \n",
       "2                               CNN.com Daily Top 10   \n",
       "3  Re: svn commit: r619753 - in /spamassassin/tru...   \n",
       "4                         SpecialPricesPharmMoreinfo   \n",
       "\n",
       "                                                body  label  urls  \n",
       "0  Buck up, your troubles caused by small dimensi...      1     1  \n",
       "1  \\nUpgrade your sex and pleasures with these te...      1     1  \n",
       "2  >+=+=+=+=+=+=+=+=+=+=+=+=+=+=+=+=+=+=+=+=+=+=+...      1     1  \n",
       "3  Would anyone object to removing .so from this ...      0     1  \n",
       "4  \\nWelcomeFastShippingCustomerSupport\\nhttp://7...      1     1  "
      ]
     },
     "execution_count": 42,
     "metadata": {},
     "output_type": "execute_result"
    }
   ],
   "source": [
    "df.head()"
   ]
  },
  {
   "cell_type": "code",
   "execution_count": 43,
   "metadata": {},
   "outputs": [
    {
     "data": {
      "text/plain": [
       "(39154, 7)"
      ]
     },
     "execution_count": 43,
     "metadata": {},
     "output_type": "execute_result"
    }
   ],
   "source": [
    "df.shape"
   ]
  },
  {
   "cell_type": "code",
   "execution_count": 44,
   "metadata": {},
   "outputs": [
    {
     "data": {
      "image/png": "[encoded data removed]",
      "text/plain": [
       "<Figure size 640x480 with 1 Axes>"
      ]
     },
     "metadata": {},
     "output_type": "display_data"
    }
   ],
   "source": [
    "sns.countplot(x='label',data = df)\n",
    "plt.title('phishing vs non physhing mail')\n",
    "plt.show()"
   ]
  },
  {
   "cell_type": "code",
   "execution_count": 45,
   "metadata": {},
   "outputs": [
    {
     "data": {
      "text/plain": [
       "sender        0\n",
       "receiver    462\n",
       "date          0\n",
       "subject      28\n",
       "body          0\n",
       "label         0\n",
       "urls          0\n",
       "dtype: int64"
      ]
     },
     "execution_count": 45,
     "metadata": {},
     "output_type": "execute_result"
    }
   ],
   "source": [
    "df.isnull().sum()"
   ]
  },
  {
   "cell_type": "code",
   "execution_count": 46,
   "metadata": {},
   "outputs": [],
   "source": [
    "# Data preprocessing\n",
    "def clean_text(text):\n",
    "    text = text.lower()\n",
    "    text = re.sub(f\"[{string.punctuation}]\", \"\", text)  # Remove punctuation\n",
    "    text = re.sub(r'\\d+', '', text)  # Remove numbers\n",
    "    return text\n"
   ]
  },
  {
   "cell_type": "code",
   "execution_count": 47,
   "metadata": {},
   "outputs": [],
   "source": [
    "df[\"body\"] = df[\"body\"].astype(str).apply(clean_text)"
   ]
  },
  {
   "cell_type": "code",
   "execution_count": 48,
   "metadata": {},
   "outputs": [],
   "source": [
    "X=df['body']\n",
    "y = df['label']"
   ]
  },
  {
   "cell_type": "code",
   "execution_count": 49,
   "metadata": {},
   "outputs": [],
   "source": [
    "X_train,X_test,y_train,y_test = train_test_split(X,y,test_size = 0.1,random_state = 42)"
   ]
  },
  {
   "cell_type": "code",
   "execution_count": 50,
   "metadata": {},
   "outputs": [],
   "source": [
    "# Feature extraction using TF-IDF\n",
    "vectorizer = TfidfVectorizer(stop_words=\"english\", max_features=5000)\n",
    "X_train_tfidf = vectorizer.fit_transform(X_train)\n",
    "X_test_tfidf = vectorizer.transform(X_test)\n"
   ]
  },
  {
   "cell_type": "code",
   "execution_count": 51,
   "metadata": {},
   "outputs": [
    {
     "data": {
      "text/plain": [
       "MultinomialNB()"
      ]
     },
     "execution_count": 51,
     "metadata": {},
     "output_type": "execute_result"
    }
   ],
   "source": [
    "mnb = MultinomialNB()\n",
    "mnb.fit(X_train_tfidf,y_train)"
   ]
  },
  {
   "cell_type": "code",
   "execution_count": 52,
   "metadata": {},
   "outputs": [],
   "source": [
    "y_predictmnb = mnb.predict(X_test_tfidf)"
   ]
  },
  {
   "cell_type": "code",
   "execution_count": 53,
   "metadata": {},
   "outputs": [
    {
     "name": "stdout",
     "output_type": "stream",
     "text": [
      "MultinomialNB\n",
      "Accuracy :  0.9736976506639428\n",
      "Classification Report :                precision    recall  f1-score   support\n",
      "\n",
      "           0       0.95      1.00      0.97      1746\n",
      "           1       1.00      0.96      0.98      2170\n",
      "\n",
      "    accuracy                           0.97      3916\n",
      "   macro avg       0.97      0.98      0.97      3916\n",
      "weighted avg       0.97      0.97      0.97      3916\n",
      "\n"
     ]
    }
   ],
   "source": [
    "print('MultinomialNB')\n",
    "print('Accuracy : ',accuracy_score(y_test,y_predictmnb))\n",
    "print('Classification Report : ',classification_report(y_test,y_predictmnb))"
   ]
  },
  {
   "cell_type": "code",
   "execution_count": null,
   "metadata": {},
   "outputs": [],
   "source": []
  },
  {
   "cell_type": "code",
   "execution_count": null,
   "metadata": {},
   "outputs": [],
   "source": []
  },
  {
   "cell_type": "code",
   "execution_count": null,
   "metadata": {},
   "outputs": [],
   "source": []
  },
  {
   "cell_type": "code",
   "execution_count": null,
   "metadata": {},
   "outputs": [],
   "source": []
  },
  {
   "cell_type": "code",
   "execution_count": null,
   "metadata": {},
   "outputs": [],
   "source": []
  }
 ],
 "metadata": {
  "kernelspec": {
   "display_name": "base",
   "language": "python",
   "name": "python3"
  },
  "language_info": {
   "codemirror_mode": {
    "name": "ipython",
    "version": 3
   },
   "file_extension": ".py",
   "mimetype": "text/x-python",
   "name": "python",
   "nbconvert_exporter": "python",
   "pygments_lexer": "ipython3",
   "version": "3.9.13"
  }
 },
 "nbformat": 4,
 "nbformat_minor": 2
}
